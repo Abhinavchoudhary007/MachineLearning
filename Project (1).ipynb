{
  "cells": [
    {
      "cell_type": "code",
      "execution_count": 1,
      "metadata": {
        "id": "CVJQ_29ZsVfl"
      },
      "outputs": [],
      "source": [
        "import numpy as np\n",
        "import pandas as pd\n",
        "dataset1 = pd.read_csv(\"dataTraining1.csv\")"
      ]
    },
    {
      "cell_type": "code",
      "execution_count": 2,
      "metadata": {
        "id": "BuCQH9c2t2h8",
        "colab": {
          "base_uri": "https://localhost:8080/",
          "height": 206
        },
        "outputId": "fe09b72b-dc57-4af7-a0cb-ec22af3ea367"
      },
      "outputs": [
        {
          "output_type": "execute_result",
          "data": {
            "text/plain": [
              "   Serial number              date  Humidity    Light    CO2  HumidityRatio  \\\n",
              "0              1  04-02-2015 17:51     23.18  27.2720  426.0         721.25   \n",
              "1              2  04-02-2015 17:51     23.15  27.2675  429.5         714.00   \n",
              "2              3  04-02-2015 17:53     23.15  27.2450  426.0         713.50   \n",
              "3              4  04-02-2015 17:54     23.15  27.2000  426.0         708.25   \n",
              "4              5  04-02-2015 17:55     23.10  27.2000  426.0         704.50   \n",
              "\n",
              "   Occupancy  Column1  \n",
              "0   0.004793        1  \n",
              "1   0.004783        1  \n",
              "2   0.004779        1  \n",
              "3   0.004772        1  \n",
              "4   0.004757        1  "
            ],
            "text/html": [
              "\n",
              "  <div id=\"df-498ea9b5-e747-4ee6-93fc-46ad1a5ac1d2\">\n",
              "    <div class=\"colab-df-container\">\n",
              "      <div>\n",
              "<style scoped>\n",
              "    .dataframe tbody tr th:only-of-type {\n",
              "        vertical-align: middle;\n",
              "    }\n",
              "\n",
              "    .dataframe tbody tr th {\n",
              "        vertical-align: top;\n",
              "    }\n",
              "\n",
              "    .dataframe thead th {\n",
              "        text-align: right;\n",
              "    }\n",
              "</style>\n",
              "<table border=\"1\" class=\"dataframe\">\n",
              "  <thead>\n",
              "    <tr style=\"text-align: right;\">\n",
              "      <th></th>\n",
              "      <th>Serial number</th>\n",
              "      <th>date</th>\n",
              "      <th>Humidity</th>\n",
              "      <th>Light</th>\n",
              "      <th>CO2</th>\n",
              "      <th>HumidityRatio</th>\n",
              "      <th>Occupancy</th>\n",
              "      <th>Column1</th>\n",
              "    </tr>\n",
              "  </thead>\n",
              "  <tbody>\n",
              "    <tr>\n",
              "      <th>0</th>\n",
              "      <td>1</td>\n",
              "      <td>04-02-2015 17:51</td>\n",
              "      <td>23.18</td>\n",
              "      <td>27.2720</td>\n",
              "      <td>426.0</td>\n",
              "      <td>721.25</td>\n",
              "      <td>0.004793</td>\n",
              "      <td>1</td>\n",
              "    </tr>\n",
              "    <tr>\n",
              "      <th>1</th>\n",
              "      <td>2</td>\n",
              "      <td>04-02-2015 17:51</td>\n",
              "      <td>23.15</td>\n",
              "      <td>27.2675</td>\n",
              "      <td>429.5</td>\n",
              "      <td>714.00</td>\n",
              "      <td>0.004783</td>\n",
              "      <td>1</td>\n",
              "    </tr>\n",
              "    <tr>\n",
              "      <th>2</th>\n",
              "      <td>3</td>\n",
              "      <td>04-02-2015 17:53</td>\n",
              "      <td>23.15</td>\n",
              "      <td>27.2450</td>\n",
              "      <td>426.0</td>\n",
              "      <td>713.50</td>\n",
              "      <td>0.004779</td>\n",
              "      <td>1</td>\n",
              "    </tr>\n",
              "    <tr>\n",
              "      <th>3</th>\n",
              "      <td>4</td>\n",
              "      <td>04-02-2015 17:54</td>\n",
              "      <td>23.15</td>\n",
              "      <td>27.2000</td>\n",
              "      <td>426.0</td>\n",
              "      <td>708.25</td>\n",
              "      <td>0.004772</td>\n",
              "      <td>1</td>\n",
              "    </tr>\n",
              "    <tr>\n",
              "      <th>4</th>\n",
              "      <td>5</td>\n",
              "      <td>04-02-2015 17:55</td>\n",
              "      <td>23.10</td>\n",
              "      <td>27.2000</td>\n",
              "      <td>426.0</td>\n",
              "      <td>704.50</td>\n",
              "      <td>0.004757</td>\n",
              "      <td>1</td>\n",
              "    </tr>\n",
              "  </tbody>\n",
              "</table>\n",
              "</div>\n",
              "      <button class=\"colab-df-convert\" onclick=\"convertToInteractive('df-498ea9b5-e747-4ee6-93fc-46ad1a5ac1d2')\"\n",
              "              title=\"Convert this dataframe to an interactive table.\"\n",
              "              style=\"display:none;\">\n",
              "        \n",
              "  <svg xmlns=\"http://www.w3.org/2000/svg\" height=\"24px\"viewBox=\"0 0 24 24\"\n",
              "       width=\"24px\">\n",
              "    <path d=\"M0 0h24v24H0V0z\" fill=\"none\"/>\n",
              "    <path d=\"M18.56 5.44l.94 2.06.94-2.06 2.06-.94-2.06-.94-.94-2.06-.94 2.06-2.06.94zm-11 1L8.5 8.5l.94-2.06 2.06-.94-2.06-.94L8.5 2.5l-.94 2.06-2.06.94zm10 10l.94 2.06.94-2.06 2.06-.94-2.06-.94-.94-2.06-.94 2.06-2.06.94z\"/><path d=\"M17.41 7.96l-1.37-1.37c-.4-.4-.92-.59-1.43-.59-.52 0-1.04.2-1.43.59L10.3 9.45l-7.72 7.72c-.78.78-.78 2.05 0 2.83L4 21.41c.39.39.9.59 1.41.59.51 0 1.02-.2 1.41-.59l7.78-7.78 2.81-2.81c.8-.78.8-2.07 0-2.86zM5.41 20L4 18.59l7.72-7.72 1.47 1.35L5.41 20z\"/>\n",
              "  </svg>\n",
              "      </button>\n",
              "      \n",
              "  <style>\n",
              "    .colab-df-container {\n",
              "      display:flex;\n",
              "      flex-wrap:wrap;\n",
              "      gap: 12px;\n",
              "    }\n",
              "\n",
              "    .colab-df-convert {\n",
              "      background-color: #E8F0FE;\n",
              "      border: none;\n",
              "      border-radius: 50%;\n",
              "      cursor: pointer;\n",
              "      display: none;\n",
              "      fill: #1967D2;\n",
              "      height: 32px;\n",
              "      padding: 0 0 0 0;\n",
              "      width: 32px;\n",
              "    }\n",
              "\n",
              "    .colab-df-convert:hover {\n",
              "      background-color: #E2EBFA;\n",
              "      box-shadow: 0px 1px 2px rgba(60, 64, 67, 0.3), 0px 1px 3px 1px rgba(60, 64, 67, 0.15);\n",
              "      fill: #174EA6;\n",
              "    }\n",
              "\n",
              "    [theme=dark] .colab-df-convert {\n",
              "      background-color: #3B4455;\n",
              "      fill: #D2E3FC;\n",
              "    }\n",
              "\n",
              "    [theme=dark] .colab-df-convert:hover {\n",
              "      background-color: #434B5C;\n",
              "      box-shadow: 0px 1px 3px 1px rgba(0, 0, 0, 0.15);\n",
              "      filter: drop-shadow(0px 1px 2px rgba(0, 0, 0, 0.3));\n",
              "      fill: #FFFFFF;\n",
              "    }\n",
              "  </style>\n",
              "\n",
              "      <script>\n",
              "        const buttonEl =\n",
              "          document.querySelector('#df-498ea9b5-e747-4ee6-93fc-46ad1a5ac1d2 button.colab-df-convert');\n",
              "        buttonEl.style.display =\n",
              "          google.colab.kernel.accessAllowed ? 'block' : 'none';\n",
              "\n",
              "        async function convertToInteractive(key) {\n",
              "          const element = document.querySelector('#df-498ea9b5-e747-4ee6-93fc-46ad1a5ac1d2');\n",
              "          const dataTable =\n",
              "            await google.colab.kernel.invokeFunction('convertToInteractive',\n",
              "                                                     [key], {});\n",
              "          if (!dataTable) return;\n",
              "\n",
              "          const docLinkHtml = 'Like what you see? Visit the ' +\n",
              "            '<a target=\"_blank\" href=https://colab.research.google.com/notebooks/data_table.ipynb>data table notebook</a>'\n",
              "            + ' to learn more about interactive tables.';\n",
              "          element.innerHTML = '';\n",
              "          dataTable['output_type'] = 'display_data';\n",
              "          await google.colab.output.renderOutput(dataTable, element);\n",
              "          const docLink = document.createElement('div');\n",
              "          docLink.innerHTML = docLinkHtml;\n",
              "          element.appendChild(docLink);\n",
              "        }\n",
              "      </script>\n",
              "    </div>\n",
              "  </div>\n",
              "  "
            ]
          },
          "metadata": {},
          "execution_count": 2
        }
      ],
      "source": [
        "dataset1.head() #first 5 column"
      ]
    },
    {
      "cell_type": "code",
      "execution_count": 3,
      "metadata": {
        "id": "gjYqGPAOzXkU",
        "colab": {
          "base_uri": "https://localhost:8080/",
          "height": 206
        },
        "outputId": "8f499cd9-db28-49c1-93b1-fe9da79be4f5"
      },
      "outputs": [
        {
          "output_type": "execute_result",
          "data": {
            "text/plain": [
              "      Serial number              date  Humidity    Light    CO2  \\\n",
              "8138           8139  10-02-2015 09:29     21.05  36.0975  433.0   \n",
              "8139           8140  10-02-2015 09:29     21.05  35.9950  433.0   \n",
              "8140           8141  10-02-2015 09:30     21.10  36.0950  433.0   \n",
              "8141           8142  10-02-2015 09:32     21.10  36.2600  433.0   \n",
              "8142           8143  10-02-2015 09:33     21.10  36.2000  447.0   \n",
              "\n",
              "      HumidityRatio  Occupancy  Column1  \n",
              "8138     787.250000   0.005579        1  \n",
              "8139     789.500000   0.005563        1  \n",
              "8140     798.500000   0.005596        1  \n",
              "8141     820.333333   0.005621        1  \n",
              "8142     821.000000   0.005612        1  "
            ],
            "text/html": [
              "\n",
              "  <div id=\"df-163222eb-cf32-4f65-a300-d6393578779c\">\n",
              "    <div class=\"colab-df-container\">\n",
              "      <div>\n",
              "<style scoped>\n",
              "    .dataframe tbody tr th:only-of-type {\n",
              "        vertical-align: middle;\n",
              "    }\n",
              "\n",
              "    .dataframe tbody tr th {\n",
              "        vertical-align: top;\n",
              "    }\n",
              "\n",
              "    .dataframe thead th {\n",
              "        text-align: right;\n",
              "    }\n",
              "</style>\n",
              "<table border=\"1\" class=\"dataframe\">\n",
              "  <thead>\n",
              "    <tr style=\"text-align: right;\">\n",
              "      <th></th>\n",
              "      <th>Serial number</th>\n",
              "      <th>date</th>\n",
              "      <th>Humidity</th>\n",
              "      <th>Light</th>\n",
              "      <th>CO2</th>\n",
              "      <th>HumidityRatio</th>\n",
              "      <th>Occupancy</th>\n",
              "      <th>Column1</th>\n",
              "    </tr>\n",
              "  </thead>\n",
              "  <tbody>\n",
              "    <tr>\n",
              "      <th>8138</th>\n",
              "      <td>8139</td>\n",
              "      <td>10-02-2015 09:29</td>\n",
              "      <td>21.05</td>\n",
              "      <td>36.0975</td>\n",
              "      <td>433.0</td>\n",
              "      <td>787.250000</td>\n",
              "      <td>0.005579</td>\n",
              "      <td>1</td>\n",
              "    </tr>\n",
              "    <tr>\n",
              "      <th>8139</th>\n",
              "      <td>8140</td>\n",
              "      <td>10-02-2015 09:29</td>\n",
              "      <td>21.05</td>\n",
              "      <td>35.9950</td>\n",
              "      <td>433.0</td>\n",
              "      <td>789.500000</td>\n",
              "      <td>0.005563</td>\n",
              "      <td>1</td>\n",
              "    </tr>\n",
              "    <tr>\n",
              "      <th>8140</th>\n",
              "      <td>8141</td>\n",
              "      <td>10-02-2015 09:30</td>\n",
              "      <td>21.10</td>\n",
              "      <td>36.0950</td>\n",
              "      <td>433.0</td>\n",
              "      <td>798.500000</td>\n",
              "      <td>0.005596</td>\n",
              "      <td>1</td>\n",
              "    </tr>\n",
              "    <tr>\n",
              "      <th>8141</th>\n",
              "      <td>8142</td>\n",
              "      <td>10-02-2015 09:32</td>\n",
              "      <td>21.10</td>\n",
              "      <td>36.2600</td>\n",
              "      <td>433.0</td>\n",
              "      <td>820.333333</td>\n",
              "      <td>0.005621</td>\n",
              "      <td>1</td>\n",
              "    </tr>\n",
              "    <tr>\n",
              "      <th>8142</th>\n",
              "      <td>8143</td>\n",
              "      <td>10-02-2015 09:33</td>\n",
              "      <td>21.10</td>\n",
              "      <td>36.2000</td>\n",
              "      <td>447.0</td>\n",
              "      <td>821.000000</td>\n",
              "      <td>0.005612</td>\n",
              "      <td>1</td>\n",
              "    </tr>\n",
              "  </tbody>\n",
              "</table>\n",
              "</div>\n",
              "      <button class=\"colab-df-convert\" onclick=\"convertToInteractive('df-163222eb-cf32-4f65-a300-d6393578779c')\"\n",
              "              title=\"Convert this dataframe to an interactive table.\"\n",
              "              style=\"display:none;\">\n",
              "        \n",
              "  <svg xmlns=\"http://www.w3.org/2000/svg\" height=\"24px\"viewBox=\"0 0 24 24\"\n",
              "       width=\"24px\">\n",
              "    <path d=\"M0 0h24v24H0V0z\" fill=\"none\"/>\n",
              "    <path d=\"M18.56 5.44l.94 2.06.94-2.06 2.06-.94-2.06-.94-.94-2.06-.94 2.06-2.06.94zm-11 1L8.5 8.5l.94-2.06 2.06-.94-2.06-.94L8.5 2.5l-.94 2.06-2.06.94zm10 10l.94 2.06.94-2.06 2.06-.94-2.06-.94-.94-2.06-.94 2.06-2.06.94z\"/><path d=\"M17.41 7.96l-1.37-1.37c-.4-.4-.92-.59-1.43-.59-.52 0-1.04.2-1.43.59L10.3 9.45l-7.72 7.72c-.78.78-.78 2.05 0 2.83L4 21.41c.39.39.9.59 1.41.59.51 0 1.02-.2 1.41-.59l7.78-7.78 2.81-2.81c.8-.78.8-2.07 0-2.86zM5.41 20L4 18.59l7.72-7.72 1.47 1.35L5.41 20z\"/>\n",
              "  </svg>\n",
              "      </button>\n",
              "      \n",
              "  <style>\n",
              "    .colab-df-container {\n",
              "      display:flex;\n",
              "      flex-wrap:wrap;\n",
              "      gap: 12px;\n",
              "    }\n",
              "\n",
              "    .colab-df-convert {\n",
              "      background-color: #E8F0FE;\n",
              "      border: none;\n",
              "      border-radius: 50%;\n",
              "      cursor: pointer;\n",
              "      display: none;\n",
              "      fill: #1967D2;\n",
              "      height: 32px;\n",
              "      padding: 0 0 0 0;\n",
              "      width: 32px;\n",
              "    }\n",
              "\n",
              "    .colab-df-convert:hover {\n",
              "      background-color: #E2EBFA;\n",
              "      box-shadow: 0px 1px 2px rgba(60, 64, 67, 0.3), 0px 1px 3px 1px rgba(60, 64, 67, 0.15);\n",
              "      fill: #174EA6;\n",
              "    }\n",
              "\n",
              "    [theme=dark] .colab-df-convert {\n",
              "      background-color: #3B4455;\n",
              "      fill: #D2E3FC;\n",
              "    }\n",
              "\n",
              "    [theme=dark] .colab-df-convert:hover {\n",
              "      background-color: #434B5C;\n",
              "      box-shadow: 0px 1px 3px 1px rgba(0, 0, 0, 0.15);\n",
              "      filter: drop-shadow(0px 1px 2px rgba(0, 0, 0, 0.3));\n",
              "      fill: #FFFFFF;\n",
              "    }\n",
              "  </style>\n",
              "\n",
              "      <script>\n",
              "        const buttonEl =\n",
              "          document.querySelector('#df-163222eb-cf32-4f65-a300-d6393578779c button.colab-df-convert');\n",
              "        buttonEl.style.display =\n",
              "          google.colab.kernel.accessAllowed ? 'block' : 'none';\n",
              "\n",
              "        async function convertToInteractive(key) {\n",
              "          const element = document.querySelector('#df-163222eb-cf32-4f65-a300-d6393578779c');\n",
              "          const dataTable =\n",
              "            await google.colab.kernel.invokeFunction('convertToInteractive',\n",
              "                                                     [key], {});\n",
              "          if (!dataTable) return;\n",
              "\n",
              "          const docLinkHtml = 'Like what you see? Visit the ' +\n",
              "            '<a target=\"_blank\" href=https://colab.research.google.com/notebooks/data_table.ipynb>data table notebook</a>'\n",
              "            + ' to learn more about interactive tables.';\n",
              "          element.innerHTML = '';\n",
              "          dataTable['output_type'] = 'display_data';\n",
              "          await google.colab.output.renderOutput(dataTable, element);\n",
              "          const docLink = document.createElement('div');\n",
              "          docLink.innerHTML = docLinkHtml;\n",
              "          element.appendChild(docLink);\n",
              "        }\n",
              "      </script>\n",
              "    </div>\n",
              "  </div>\n",
              "  "
            ]
          },
          "metadata": {},
          "execution_count": 3
        }
      ],
      "source": [
        "dataset1.tail()#last 5 columns"
      ]
    },
    {
      "cell_type": "code",
      "execution_count": 4,
      "metadata": {
        "id": "eaeF32VWuGqV",
        "colab": {
          "base_uri": "https://localhost:8080/"
        },
        "outputId": "076b8586-92a9-4012-e54a-13cd63849881"
      },
      "outputs": [
        {
          "output_type": "execute_result",
          "data": {
            "text/plain": [
              "Serial number    0\n",
              "date             0\n",
              "Humidity         0\n",
              "Light            0\n",
              "CO2              0\n",
              "HumidityRatio    0\n",
              "Occupancy        0\n",
              "Column1          0\n",
              "dtype: int64"
            ]
          },
          "metadata": {},
          "execution_count": 4
        }
      ],
      "source": [
        "dataset1.isnull().sum()"
      ]
    },
    {
      "cell_type": "code",
      "execution_count": 5,
      "metadata": {
        "id": "6dB6olOXuZGy"
      },
      "outputs": [],
      "source": [
        "df=dataset1.drop(['Column1','date'],axis=1)  #removing useless column to minimize dataset"
      ]
    },
    {
      "cell_type": "code",
      "execution_count": 6,
      "metadata": {
        "id": "BpuyNms_m8d_",
        "colab": {
          "base_uri": "https://localhost:8080/"
        },
        "outputId": "51fdea12-1c7a-4770-f377-e57674db9d71"
      },
      "outputs": [
        {
          "output_type": "execute_result",
          "data": {
            "text/plain": [
              "(8143, 6)"
            ]
          },
          "metadata": {},
          "execution_count": 6
        }
      ],
      "source": [
        "df.shape"
      ]
    },
    {
      "cell_type": "code",
      "execution_count": 7,
      "metadata": {
        "id": "IZGtXv5A0LWn",
        "colab": {
          "base_uri": "https://localhost:8080/"
        },
        "outputId": "efa53ede-3a53-4aea-af78-54e7cb4e2371"
      },
      "outputs": [
        {
          "output_type": "execute_result",
          "data": {
            "text/plain": [
              "Serial number      int64\n",
              "Humidity         float64\n",
              "Light            float64\n",
              "CO2              float64\n",
              "HumidityRatio    float64\n",
              "Occupancy        float64\n",
              "dtype: object"
            ]
          },
          "metadata": {},
          "execution_count": 7
        }
      ],
      "source": [
        "df.dtypes"
      ]
    },
    {
      "cell_type": "code",
      "execution_count": 8,
      "metadata": {
        "id": "Cs7vCpED0dFz",
        "colab": {
          "base_uri": "https://localhost:8080/"
        },
        "outputId": "98faf808-f8e2-478f-cb57-46eb32cfe1cb"
      },
      "outputs": [
        {
          "output_type": "stream",
          "name": "stdout",
          "text": [
            "<class 'pandas.core.frame.DataFrame'>\n",
            "RangeIndex: 8143 entries, 0 to 8142\n",
            "Data columns (total 6 columns):\n",
            " #   Column         Non-Null Count  Dtype  \n",
            "---  ------         --------------  -----  \n",
            " 0   Serial number  8143 non-null   int64  \n",
            " 1   Humidity       8143 non-null   float64\n",
            " 2   Light          8143 non-null   float64\n",
            " 3   CO2            8143 non-null   float64\n",
            " 4   HumidityRatio  8143 non-null   float64\n",
            " 5   Occupancy      8143 non-null   float64\n",
            "dtypes: float64(5), int64(1)\n",
            "memory usage: 381.8 KB\n"
          ]
        }
      ],
      "source": [
        "df.info() #count and datatype of dataset"
      ]
    },
    {
      "cell_type": "code",
      "execution_count": 9,
      "metadata": {
        "id": "6UT7nFqb0nrf"
      },
      "outputs": [],
      "source": [
        "from sklearn.impute import SimpleImputer\n",
        "si=SimpleImputer(strategy='most_frequent')\n",
        "df_im=si.fit_transform(df)"
      ]
    },
    {
      "cell_type": "code",
      "execution_count": 10,
      "metadata": {
        "id": "aNejcTI85oBS"
      },
      "outputs": [],
      "source": [
        "df_im=pd.DataFrame(df_im)"
      ]
    },
    {
      "cell_type": "code",
      "execution_count": 11,
      "metadata": {
        "id": "H5YXE6PUBuch"
      },
      "outputs": [],
      "source": [
        "data=df_im"
      ]
    },
    {
      "cell_type": "code",
      "execution_count": 12,
      "metadata": {
        "id": "ef7kgYpZB5de"
      },
      "outputs": [],
      "source": [
        "target=df_im[0]"
      ]
    },
    {
      "cell_type": "code",
      "execution_count": 13,
      "metadata": {
        "id": "BBAdu1ot5rKI",
        "colab": {
          "base_uri": "https://localhost:8080/",
          "height": 206
        },
        "outputId": "228bd61c-8858-4720-b662-5bb3efd6493a"
      },
      "outputs": [
        {
          "output_type": "execute_result",
          "data": {
            "text/plain": [
              "   Serial number  Humidity    Light    CO2  HumidityRatio  Occupancy\n",
              "0              1     23.18  27.2720  426.0         721.25   0.004793\n",
              "1              2     23.15  27.2675  429.5         714.00   0.004783\n",
              "2              3     23.15  27.2450  426.0         713.50   0.004779\n",
              "3              4     23.15  27.2000  426.0         708.25   0.004772\n",
              "4              5     23.10  27.2000  426.0         704.50   0.004757"
            ],
            "text/html": [
              "\n",
              "  <div id=\"df-45483734-4afa-4706-92b4-6a5dc5497193\">\n",
              "    <div class=\"colab-df-container\">\n",
              "      <div>\n",
              "<style scoped>\n",
              "    .dataframe tbody tr th:only-of-type {\n",
              "        vertical-align: middle;\n",
              "    }\n",
              "\n",
              "    .dataframe tbody tr th {\n",
              "        vertical-align: top;\n",
              "    }\n",
              "\n",
              "    .dataframe thead th {\n",
              "        text-align: right;\n",
              "    }\n",
              "</style>\n",
              "<table border=\"1\" class=\"dataframe\">\n",
              "  <thead>\n",
              "    <tr style=\"text-align: right;\">\n",
              "      <th></th>\n",
              "      <th>Serial number</th>\n",
              "      <th>Humidity</th>\n",
              "      <th>Light</th>\n",
              "      <th>CO2</th>\n",
              "      <th>HumidityRatio</th>\n",
              "      <th>Occupancy</th>\n",
              "    </tr>\n",
              "  </thead>\n",
              "  <tbody>\n",
              "    <tr>\n",
              "      <th>0</th>\n",
              "      <td>1</td>\n",
              "      <td>23.18</td>\n",
              "      <td>27.2720</td>\n",
              "      <td>426.0</td>\n",
              "      <td>721.25</td>\n",
              "      <td>0.004793</td>\n",
              "    </tr>\n",
              "    <tr>\n",
              "      <th>1</th>\n",
              "      <td>2</td>\n",
              "      <td>23.15</td>\n",
              "      <td>27.2675</td>\n",
              "      <td>429.5</td>\n",
              "      <td>714.00</td>\n",
              "      <td>0.004783</td>\n",
              "    </tr>\n",
              "    <tr>\n",
              "      <th>2</th>\n",
              "      <td>3</td>\n",
              "      <td>23.15</td>\n",
              "      <td>27.2450</td>\n",
              "      <td>426.0</td>\n",
              "      <td>713.50</td>\n",
              "      <td>0.004779</td>\n",
              "    </tr>\n",
              "    <tr>\n",
              "      <th>3</th>\n",
              "      <td>4</td>\n",
              "      <td>23.15</td>\n",
              "      <td>27.2000</td>\n",
              "      <td>426.0</td>\n",
              "      <td>708.25</td>\n",
              "      <td>0.004772</td>\n",
              "    </tr>\n",
              "    <tr>\n",
              "      <th>4</th>\n",
              "      <td>5</td>\n",
              "      <td>23.10</td>\n",
              "      <td>27.2000</td>\n",
              "      <td>426.0</td>\n",
              "      <td>704.50</td>\n",
              "      <td>0.004757</td>\n",
              "    </tr>\n",
              "  </tbody>\n",
              "</table>\n",
              "</div>\n",
              "      <button class=\"colab-df-convert\" onclick=\"convertToInteractive('df-45483734-4afa-4706-92b4-6a5dc5497193')\"\n",
              "              title=\"Convert this dataframe to an interactive table.\"\n",
              "              style=\"display:none;\">\n",
              "        \n",
              "  <svg xmlns=\"http://www.w3.org/2000/svg\" height=\"24px\"viewBox=\"0 0 24 24\"\n",
              "       width=\"24px\">\n",
              "    <path d=\"M0 0h24v24H0V0z\" fill=\"none\"/>\n",
              "    <path d=\"M18.56 5.44l.94 2.06.94-2.06 2.06-.94-2.06-.94-.94-2.06-.94 2.06-2.06.94zm-11 1L8.5 8.5l.94-2.06 2.06-.94-2.06-.94L8.5 2.5l-.94 2.06-2.06.94zm10 10l.94 2.06.94-2.06 2.06-.94-2.06-.94-.94-2.06-.94 2.06-2.06.94z\"/><path d=\"M17.41 7.96l-1.37-1.37c-.4-.4-.92-.59-1.43-.59-.52 0-1.04.2-1.43.59L10.3 9.45l-7.72 7.72c-.78.78-.78 2.05 0 2.83L4 21.41c.39.39.9.59 1.41.59.51 0 1.02-.2 1.41-.59l7.78-7.78 2.81-2.81c.8-.78.8-2.07 0-2.86zM5.41 20L4 18.59l7.72-7.72 1.47 1.35L5.41 20z\"/>\n",
              "  </svg>\n",
              "      </button>\n",
              "      \n",
              "  <style>\n",
              "    .colab-df-container {\n",
              "      display:flex;\n",
              "      flex-wrap:wrap;\n",
              "      gap: 12px;\n",
              "    }\n",
              "\n",
              "    .colab-df-convert {\n",
              "      background-color: #E8F0FE;\n",
              "      border: none;\n",
              "      border-radius: 50%;\n",
              "      cursor: pointer;\n",
              "      display: none;\n",
              "      fill: #1967D2;\n",
              "      height: 32px;\n",
              "      padding: 0 0 0 0;\n",
              "      width: 32px;\n",
              "    }\n",
              "\n",
              "    .colab-df-convert:hover {\n",
              "      background-color: #E2EBFA;\n",
              "      box-shadow: 0px 1px 2px rgba(60, 64, 67, 0.3), 0px 1px 3px 1px rgba(60, 64, 67, 0.15);\n",
              "      fill: #174EA6;\n",
              "    }\n",
              "\n",
              "    [theme=dark] .colab-df-convert {\n",
              "      background-color: #3B4455;\n",
              "      fill: #D2E3FC;\n",
              "    }\n",
              "\n",
              "    [theme=dark] .colab-df-convert:hover {\n",
              "      background-color: #434B5C;\n",
              "      box-shadow: 0px 1px 3px 1px rgba(0, 0, 0, 0.15);\n",
              "      filter: drop-shadow(0px 1px 2px rgba(0, 0, 0, 0.3));\n",
              "      fill: #FFFFFF;\n",
              "    }\n",
              "  </style>\n",
              "\n",
              "      <script>\n",
              "        const buttonEl =\n",
              "          document.querySelector('#df-45483734-4afa-4706-92b4-6a5dc5497193 button.colab-df-convert');\n",
              "        buttonEl.style.display =\n",
              "          google.colab.kernel.accessAllowed ? 'block' : 'none';\n",
              "\n",
              "        async function convertToInteractive(key) {\n",
              "          const element = document.querySelector('#df-45483734-4afa-4706-92b4-6a5dc5497193');\n",
              "          const dataTable =\n",
              "            await google.colab.kernel.invokeFunction('convertToInteractive',\n",
              "                                                     [key], {});\n",
              "          if (!dataTable) return;\n",
              "\n",
              "          const docLinkHtml = 'Like what you see? Visit the ' +\n",
              "            '<a target=\"_blank\" href=https://colab.research.google.com/notebooks/data_table.ipynb>data table notebook</a>'\n",
              "            + ' to learn more about interactive tables.';\n",
              "          element.innerHTML = '';\n",
              "          dataTable['output_type'] = 'display_data';\n",
              "          await google.colab.output.renderOutput(dataTable, element);\n",
              "          const docLink = document.createElement('div');\n",
              "          docLink.innerHTML = docLinkHtml;\n",
              "          element.appendChild(docLink);\n",
              "        }\n",
              "      </script>\n",
              "    </div>\n",
              "  </div>\n",
              "  "
            ]
          },
          "metadata": {},
          "execution_count": 13
        }
      ],
      "source": [
        "df.head()"
      ]
    },
    {
      "cell_type": "code",
      "execution_count": 14,
      "metadata": {
        "id": "rhrx9SB06AAj"
      },
      "outputs": [],
      "source": [
        "import matplotlib.pyplot as plot\n",
        "from sklearn import linear_model"
      ]
    },
    {
      "cell_type": "code",
      "execution_count": 15,
      "metadata": {
        "id": "WgHMB2kDBg_e"
      },
      "outputs": [],
      "source": [
        "from sklearn.model_selection import train_test_split\n",
        "x_train,x_test,y_train,y_test=train_test_split(data,target,test_size=0.3)"
      ]
    },
    {
      "cell_type": "code",
      "execution_count": 16,
      "metadata": {
        "id": "rgKDGiN9COTF",
        "colab": {
          "base_uri": "https://localhost:8080/"
        },
        "outputId": "754998f3-591c-4de5-ea41-80e92e1af340"
      },
      "outputs": [
        {
          "output_type": "execute_result",
          "data": {
            "text/plain": [
              "(5700, 6)"
            ]
          },
          "metadata": {},
          "execution_count": 16
        }
      ],
      "source": [
        "x_train.shape"
      ]
    },
    {
      "cell_type": "code",
      "execution_count": 17,
      "metadata": {
        "id": "iXmXFsZICRv6",
        "colab": {
          "base_uri": "https://localhost:8080/"
        },
        "outputId": "b6df3500-84c3-4f2b-8011-f06a3ae3c206"
      },
      "outputs": [
        {
          "output_type": "execute_result",
          "data": {
            "text/plain": [
              "(2443, 6)"
            ]
          },
          "metadata": {},
          "execution_count": 17
        }
      ],
      "source": [
        "x_test.shape"
      ]
    },
    {
      "cell_type": "code",
      "execution_count": 18,
      "metadata": {
        "id": "U4LR5bG1CYHn"
      },
      "outputs": [],
      "source": [
        "from sklearn.linear_model import Perceptron"
      ]
    },
    {
      "cell_type": "code",
      "execution_count": 19,
      "metadata": {
        "id": "Wt8mcrwuCchM"
      },
      "outputs": [],
      "source": [
        "p1=Perceptron(penalty='l1')"
      ]
    },
    {
      "cell_type": "code",
      "execution_count": 20,
      "metadata": {
        "id": "3YjV0nJLp__Z",
        "colab": {
          "base_uri": "https://localhost:8080/",
          "height": 423
        },
        "outputId": "efe583ed-6c52-486d-cf05-a34065e78918"
      },
      "outputs": [
        {
          "output_type": "execute_result",
          "data": {
            "text/plain": [
              "      Serial number  Humidity    Light    CO2  HumidityRatio  Occupancy\n",
              "0                 1     23.18  27.2720  426.0     721.250000   0.004793\n",
              "1                 2     23.15  27.2675  429.5     714.000000   0.004783\n",
              "2                 3     23.15  27.2450  426.0     713.500000   0.004779\n",
              "3                 4     23.15  27.2000  426.0     708.250000   0.004772\n",
              "4                 5     23.10  27.2000  426.0     704.500000   0.004757\n",
              "...             ...       ...      ...    ...            ...        ...\n",
              "8138           8139     21.05  36.0975  433.0     787.250000   0.005579\n",
              "8139           8140     21.05  35.9950  433.0     789.500000   0.005563\n",
              "8140           8141     21.10  36.0950  433.0     798.500000   0.005596\n",
              "8141           8142     21.10  36.2600  433.0     820.333333   0.005621\n",
              "8142           8143     21.10  36.2000  447.0     821.000000   0.005612\n",
              "\n",
              "[8143 rows x 6 columns]"
            ],
            "text/html": [
              "\n",
              "  <div id=\"df-b5de5933-91a0-4804-912c-eea21292df67\">\n",
              "    <div class=\"colab-df-container\">\n",
              "      <div>\n",
              "<style scoped>\n",
              "    .dataframe tbody tr th:only-of-type {\n",
              "        vertical-align: middle;\n",
              "    }\n",
              "\n",
              "    .dataframe tbody tr th {\n",
              "        vertical-align: top;\n",
              "    }\n",
              "\n",
              "    .dataframe thead th {\n",
              "        text-align: right;\n",
              "    }\n",
              "</style>\n",
              "<table border=\"1\" class=\"dataframe\">\n",
              "  <thead>\n",
              "    <tr style=\"text-align: right;\">\n",
              "      <th></th>\n",
              "      <th>Serial number</th>\n",
              "      <th>Humidity</th>\n",
              "      <th>Light</th>\n",
              "      <th>CO2</th>\n",
              "      <th>HumidityRatio</th>\n",
              "      <th>Occupancy</th>\n",
              "    </tr>\n",
              "  </thead>\n",
              "  <tbody>\n",
              "    <tr>\n",
              "      <th>0</th>\n",
              "      <td>1</td>\n",
              "      <td>23.18</td>\n",
              "      <td>27.2720</td>\n",
              "      <td>426.0</td>\n",
              "      <td>721.250000</td>\n",
              "      <td>0.004793</td>\n",
              "    </tr>\n",
              "    <tr>\n",
              "      <th>1</th>\n",
              "      <td>2</td>\n",
              "      <td>23.15</td>\n",
              "      <td>27.2675</td>\n",
              "      <td>429.5</td>\n",
              "      <td>714.000000</td>\n",
              "      <td>0.004783</td>\n",
              "    </tr>\n",
              "    <tr>\n",
              "      <th>2</th>\n",
              "      <td>3</td>\n",
              "      <td>23.15</td>\n",
              "      <td>27.2450</td>\n",
              "      <td>426.0</td>\n",
              "      <td>713.500000</td>\n",
              "      <td>0.004779</td>\n",
              "    </tr>\n",
              "    <tr>\n",
              "      <th>3</th>\n",
              "      <td>4</td>\n",
              "      <td>23.15</td>\n",
              "      <td>27.2000</td>\n",
              "      <td>426.0</td>\n",
              "      <td>708.250000</td>\n",
              "      <td>0.004772</td>\n",
              "    </tr>\n",
              "    <tr>\n",
              "      <th>4</th>\n",
              "      <td>5</td>\n",
              "      <td>23.10</td>\n",
              "      <td>27.2000</td>\n",
              "      <td>426.0</td>\n",
              "      <td>704.500000</td>\n",
              "      <td>0.004757</td>\n",
              "    </tr>\n",
              "    <tr>\n",
              "      <th>...</th>\n",
              "      <td>...</td>\n",
              "      <td>...</td>\n",
              "      <td>...</td>\n",
              "      <td>...</td>\n",
              "      <td>...</td>\n",
              "      <td>...</td>\n",
              "    </tr>\n",
              "    <tr>\n",
              "      <th>8138</th>\n",
              "      <td>8139</td>\n",
              "      <td>21.05</td>\n",
              "      <td>36.0975</td>\n",
              "      <td>433.0</td>\n",
              "      <td>787.250000</td>\n",
              "      <td>0.005579</td>\n",
              "    </tr>\n",
              "    <tr>\n",
              "      <th>8139</th>\n",
              "      <td>8140</td>\n",
              "      <td>21.05</td>\n",
              "      <td>35.9950</td>\n",
              "      <td>433.0</td>\n",
              "      <td>789.500000</td>\n",
              "      <td>0.005563</td>\n",
              "    </tr>\n",
              "    <tr>\n",
              "      <th>8140</th>\n",
              "      <td>8141</td>\n",
              "      <td>21.10</td>\n",
              "      <td>36.0950</td>\n",
              "      <td>433.0</td>\n",
              "      <td>798.500000</td>\n",
              "      <td>0.005596</td>\n",
              "    </tr>\n",
              "    <tr>\n",
              "      <th>8141</th>\n",
              "      <td>8142</td>\n",
              "      <td>21.10</td>\n",
              "      <td>36.2600</td>\n",
              "      <td>433.0</td>\n",
              "      <td>820.333333</td>\n",
              "      <td>0.005621</td>\n",
              "    </tr>\n",
              "    <tr>\n",
              "      <th>8142</th>\n",
              "      <td>8143</td>\n",
              "      <td>21.10</td>\n",
              "      <td>36.2000</td>\n",
              "      <td>447.0</td>\n",
              "      <td>821.000000</td>\n",
              "      <td>0.005612</td>\n",
              "    </tr>\n",
              "  </tbody>\n",
              "</table>\n",
              "<p>8143 rows × 6 columns</p>\n",
              "</div>\n",
              "      <button class=\"colab-df-convert\" onclick=\"convertToInteractive('df-b5de5933-91a0-4804-912c-eea21292df67')\"\n",
              "              title=\"Convert this dataframe to an interactive table.\"\n",
              "              style=\"display:none;\">\n",
              "        \n",
              "  <svg xmlns=\"http://www.w3.org/2000/svg\" height=\"24px\"viewBox=\"0 0 24 24\"\n",
              "       width=\"24px\">\n",
              "    <path d=\"M0 0h24v24H0V0z\" fill=\"none\"/>\n",
              "    <path d=\"M18.56 5.44l.94 2.06.94-2.06 2.06-.94-2.06-.94-.94-2.06-.94 2.06-2.06.94zm-11 1L8.5 8.5l.94-2.06 2.06-.94-2.06-.94L8.5 2.5l-.94 2.06-2.06.94zm10 10l.94 2.06.94-2.06 2.06-.94-2.06-.94-.94-2.06-.94 2.06-2.06.94z\"/><path d=\"M17.41 7.96l-1.37-1.37c-.4-.4-.92-.59-1.43-.59-.52 0-1.04.2-1.43.59L10.3 9.45l-7.72 7.72c-.78.78-.78 2.05 0 2.83L4 21.41c.39.39.9.59 1.41.59.51 0 1.02-.2 1.41-.59l7.78-7.78 2.81-2.81c.8-.78.8-2.07 0-2.86zM5.41 20L4 18.59l7.72-7.72 1.47 1.35L5.41 20z\"/>\n",
              "  </svg>\n",
              "      </button>\n",
              "      \n",
              "  <style>\n",
              "    .colab-df-container {\n",
              "      display:flex;\n",
              "      flex-wrap:wrap;\n",
              "      gap: 12px;\n",
              "    }\n",
              "\n",
              "    .colab-df-convert {\n",
              "      background-color: #E8F0FE;\n",
              "      border: none;\n",
              "      border-radius: 50%;\n",
              "      cursor: pointer;\n",
              "      display: none;\n",
              "      fill: #1967D2;\n",
              "      height: 32px;\n",
              "      padding: 0 0 0 0;\n",
              "      width: 32px;\n",
              "    }\n",
              "\n",
              "    .colab-df-convert:hover {\n",
              "      background-color: #E2EBFA;\n",
              "      box-shadow: 0px 1px 2px rgba(60, 64, 67, 0.3), 0px 1px 3px 1px rgba(60, 64, 67, 0.15);\n",
              "      fill: #174EA6;\n",
              "    }\n",
              "\n",
              "    [theme=dark] .colab-df-convert {\n",
              "      background-color: #3B4455;\n",
              "      fill: #D2E3FC;\n",
              "    }\n",
              "\n",
              "    [theme=dark] .colab-df-convert:hover {\n",
              "      background-color: #434B5C;\n",
              "      box-shadow: 0px 1px 3px 1px rgba(0, 0, 0, 0.15);\n",
              "      filter: drop-shadow(0px 1px 2px rgba(0, 0, 0, 0.3));\n",
              "      fill: #FFFFFF;\n",
              "    }\n",
              "  </style>\n",
              "\n",
              "      <script>\n",
              "        const buttonEl =\n",
              "          document.querySelector('#df-b5de5933-91a0-4804-912c-eea21292df67 button.colab-df-convert');\n",
              "        buttonEl.style.display =\n",
              "          google.colab.kernel.accessAllowed ? 'block' : 'none';\n",
              "\n",
              "        async function convertToInteractive(key) {\n",
              "          const element = document.querySelector('#df-b5de5933-91a0-4804-912c-eea21292df67');\n",
              "          const dataTable =\n",
              "            await google.colab.kernel.invokeFunction('convertToInteractive',\n",
              "                                                     [key], {});\n",
              "          if (!dataTable) return;\n",
              "\n",
              "          const docLinkHtml = 'Like what you see? Visit the ' +\n",
              "            '<a target=\"_blank\" href=https://colab.research.google.com/notebooks/data_table.ipynb>data table notebook</a>'\n",
              "            + ' to learn more about interactive tables.';\n",
              "          element.innerHTML = '';\n",
              "          dataTable['output_type'] = 'display_data';\n",
              "          await google.colab.output.renderOutput(dataTable, element);\n",
              "          const docLink = document.createElement('div');\n",
              "          docLink.innerHTML = docLinkHtml;\n",
              "          element.appendChild(docLink);\n",
              "        }\n",
              "      </script>\n",
              "    </div>\n",
              "  </div>\n",
              "  "
            ]
          },
          "metadata": {},
          "execution_count": 20
        }
      ],
      "source": [
        "df"
      ]
    },
    {
      "cell_type": "code",
      "execution_count": 21,
      "metadata": {
        "id": "5ye788JhC-ZZ",
        "colab": {
          "base_uri": "https://localhost:8080/",
          "height": 74
        },
        "outputId": "aa54a385-f6db-4bb0-a227-835079e217fe"
      },
      "outputs": [
        {
          "output_type": "execute_result",
          "data": {
            "text/plain": [
              "Perceptron(penalty='l1')"
            ],
            "text/html": [
              "<style>#sk-container-id-1 {color: black;background-color: white;}#sk-container-id-1 pre{padding: 0;}#sk-container-id-1 div.sk-toggleable {background-color: white;}#sk-container-id-1 label.sk-toggleable__label {cursor: pointer;display: block;width: 100%;margin-bottom: 0;padding: 0.3em;box-sizing: border-box;text-align: center;}#sk-container-id-1 label.sk-toggleable__label-arrow:before {content: \"▸\";float: left;margin-right: 0.25em;color: #696969;}#sk-container-id-1 label.sk-toggleable__label-arrow:hover:before {color: black;}#sk-container-id-1 div.sk-estimator:hover label.sk-toggleable__label-arrow:before {color: black;}#sk-container-id-1 div.sk-toggleable__content {max-height: 0;max-width: 0;overflow: hidden;text-align: left;background-color: #f0f8ff;}#sk-container-id-1 div.sk-toggleable__content pre {margin: 0.2em;color: black;border-radius: 0.25em;background-color: #f0f8ff;}#sk-container-id-1 input.sk-toggleable__control:checked~div.sk-toggleable__content {max-height: 200px;max-width: 100%;overflow: auto;}#sk-container-id-1 input.sk-toggleable__control:checked~label.sk-toggleable__label-arrow:before {content: \"▾\";}#sk-container-id-1 div.sk-estimator input.sk-toggleable__control:checked~label.sk-toggleable__label {background-color: #d4ebff;}#sk-container-id-1 div.sk-label input.sk-toggleable__control:checked~label.sk-toggleable__label {background-color: #d4ebff;}#sk-container-id-1 input.sk-hidden--visually {border: 0;clip: rect(1px 1px 1px 1px);clip: rect(1px, 1px, 1px, 1px);height: 1px;margin: -1px;overflow: hidden;padding: 0;position: absolute;width: 1px;}#sk-container-id-1 div.sk-estimator {font-family: monospace;background-color: #f0f8ff;border: 1px dotted black;border-radius: 0.25em;box-sizing: border-box;margin-bottom: 0.5em;}#sk-container-id-1 div.sk-estimator:hover {background-color: #d4ebff;}#sk-container-id-1 div.sk-parallel-item::after {content: \"\";width: 100%;border-bottom: 1px solid gray;flex-grow: 1;}#sk-container-id-1 div.sk-label:hover label.sk-toggleable__label {background-color: #d4ebff;}#sk-container-id-1 div.sk-serial::before {content: \"\";position: absolute;border-left: 1px solid gray;box-sizing: border-box;top: 0;bottom: 0;left: 50%;z-index: 0;}#sk-container-id-1 div.sk-serial {display: flex;flex-direction: column;align-items: center;background-color: white;padding-right: 0.2em;padding-left: 0.2em;position: relative;}#sk-container-id-1 div.sk-item {position: relative;z-index: 1;}#sk-container-id-1 div.sk-parallel {display: flex;align-items: stretch;justify-content: center;background-color: white;position: relative;}#sk-container-id-1 div.sk-item::before, #sk-container-id-1 div.sk-parallel-item::before {content: \"\";position: absolute;border-left: 1px solid gray;box-sizing: border-box;top: 0;bottom: 0;left: 50%;z-index: -1;}#sk-container-id-1 div.sk-parallel-item {display: flex;flex-direction: column;z-index: 1;position: relative;background-color: white;}#sk-container-id-1 div.sk-parallel-item:first-child::after {align-self: flex-end;width: 50%;}#sk-container-id-1 div.sk-parallel-item:last-child::after {align-self: flex-start;width: 50%;}#sk-container-id-1 div.sk-parallel-item:only-child::after {width: 0;}#sk-container-id-1 div.sk-dashed-wrapped {border: 1px dashed gray;margin: 0 0.4em 0.5em 0.4em;box-sizing: border-box;padding-bottom: 0.4em;background-color: white;}#sk-container-id-1 div.sk-label label {font-family: monospace;font-weight: bold;display: inline-block;line-height: 1.2em;}#sk-container-id-1 div.sk-label-container {text-align: center;}#sk-container-id-1 div.sk-container {/* jupyter's `normalize.less` sets `[hidden] { display: none; }` but bootstrap.min.css set `[hidden] { display: none !important; }` so we also need the `!important` here to be able to override the default hidden behavior on the sphinx rendered scikit-learn.org. See: https://github.com/scikit-learn/scikit-learn/issues/21755 */display: inline-block !important;position: relative;}#sk-container-id-1 div.sk-text-repr-fallback {display: none;}</style><div id=\"sk-container-id-1\" class=\"sk-top-container\"><div class=\"sk-text-repr-fallback\"><pre>Perceptron(penalty=&#x27;l1&#x27;)</pre><b>In a Jupyter environment, please rerun this cell to show the HTML representation or trust the notebook. <br />On GitHub, the HTML representation is unable to render, please try loading this page with nbviewer.org.</b></div><div class=\"sk-container\" hidden><div class=\"sk-item\"><div class=\"sk-estimator sk-toggleable\"><input class=\"sk-toggleable__control sk-hidden--visually\" id=\"sk-estimator-id-1\" type=\"checkbox\" checked><label for=\"sk-estimator-id-1\" class=\"sk-toggleable__label sk-toggleable__label-arrow\">Perceptron</label><div class=\"sk-toggleable__content\"><pre>Perceptron(penalty=&#x27;l1&#x27;)</pre></div></div></div></div></div>"
            ]
          },
          "metadata": {},
          "execution_count": 21
        }
      ],
      "source": [
        "p1.fit(x_train,y_train)"
      ]
    },
    {
      "cell_type": "code",
      "execution_count": 22,
      "metadata": {
        "id": "2jj3ZLWXCfAA"
      },
      "outputs": [],
      "source": [
        "from sklearn.metrics import accuracy_score"
      ]
    },
    {
      "cell_type": "code",
      "execution_count": 23,
      "metadata": {
        "id": "wv9hKHf8ChMu"
      },
      "outputs": [],
      "source": [
        "train_pred=p1.predict(x_train)"
      ]
    },
    {
      "cell_type": "code",
      "execution_count": 24,
      "metadata": {
        "id": "DslsZYTvrhh2"
      },
      "outputs": [],
      "source": [
        "train_pred=p1.predict(x_test)"
      ]
    },
    {
      "cell_type": "code",
      "execution_count": 25,
      "metadata": {
        "id": "IeyfyD-esXAr"
      },
      "outputs": [],
      "source": [
        "X=df\n",
        "y=df['Humidity']\n",
        "from sklearn.linear_model import LogisticRegression\n",
        "\n",
        "from sklearn import preprocessing\n",
        "from sklearn import utils\n",
        "\n",
        "#convert y values to categorical values\n",
        "lab = preprocessing.LabelEncoder()\n",
        "y = lab.fit_transform(y)\n"
      ]
    },
    {
      "cell_type": "code",
      "source": [
        "#split the dataset in the Training and testing \n",
        "from sklearn.model_selection import train_test_split\n",
        "X_train , X_test ,y_train, y_test = train_test_split(X,y,test_size=0.3,random_state=0)\n",
        "print(np.shape(X))\n",
        "print(np.shape(X_test))\n",
        "print(np.shape(X_train))\n",
        "\n",
        "#Create the object of StandardScaler class for independent variables or features\n",
        "from sklearn.preprocessing import StandardScaler \n",
        "sc=StandardScaler()\n",
        "sc.fit(X_train)\n",
        "X_train_std = sc.transform(X_train)\n",
        "X_test_std = sc.transform(X_test)"
      ],
      "metadata": {
        "id": "7SGDZREl4HvR",
        "colab": {
          "base_uri": "https://localhost:8080/"
        },
        "outputId": "6df3ebdd-c081-4499-a8f8-ff640270eb00"
      },
      "execution_count": 31,
      "outputs": [
        {
          "output_type": "stream",
          "name": "stdout",
          "text": [
            "(8143, 6)\n",
            "(2443, 6)\n",
            "(5700, 6)\n"
          ]
        }
      ]
    },
    {
      "cell_type": "code",
      "execution_count": 27,
      "metadata": {
        "id": "pxS2kvWksfEw",
        "colab": {
          "base_uri": "https://localhost:8080/"
        },
        "outputId": "0b9cfc4c-3839-4f2a-924c-4b6d3a103323"
      },
      "outputs": [
        {
          "output_type": "stream",
          "name": "stdout",
          "text": [
            "misclassified samples: 1059\n",
            "Accuracy:0.57\n"
          ]
        }
      ],
      "source": [
        "### SVM (Support Vector Machine)\n",
        "from sklearn.svm import SVC\n",
        "svm = SVC(kernel='linear', C=1,random_state=0)\n",
        "svm.fit(X_train_std,y_train)\n",
        "y_pred=svm.predict(X_test_std)\n",
        "print('misclassified samples: %d'%(y_test!=y_pred).sum())\n",
        "from sklearn.metrics import accuracy_score\n",
        "print('Accuracy:%.2f'%accuracy_score(y_test,y_pred))"
      ]
    },
    {
      "cell_type": "code",
      "source": [
        "### KNN (K-Nearest Neighbors)\n",
        "from sklearn.neighbors import KNeighborsClassifier\n",
        "from sklearn.metrics import accuracy_score\n",
        "knn1=KNeighborsClassifier(n_neighbors=3)\n",
        "knn1.fit(X_train_std,y_train)\n",
        "y_pred=knn1.predict(X_test_std)\n",
        "print('misclassified samples: %d'%(y_test!=y_pred).sum())\n",
        "from sklearn.metrics import accuracy_score\n",
        "print('Accuracy:%.2f'%accuracy_score(y_test,y_pred))"
      ],
      "metadata": {
        "id": "d-S5pd4d4RAy",
        "colab": {
          "base_uri": "https://localhost:8080/"
        },
        "outputId": "c5a2fb92-5779-4503-e688-d7d318d5a899"
      },
      "execution_count": 28,
      "outputs": [
        {
          "output_type": "stream",
          "name": "stdout",
          "text": [
            "misclassified samples: 547\n",
            "Accuracy:0.78\n"
          ]
        }
      ]
    },
    {
      "cell_type": "code",
      "source": [
        "### Logistic Regression\n",
        "from sklearn.linear_model import LogisticRegression\n",
        "from sklearn.metrics import classification_report, confusion_matrix\n",
        "model = LogisticRegression(solver='liblinear', random_state=0)\n",
        "model.fit(X,y)\n",
        "model = LogisticRegression(solver='liblinear', random_state=0).fit(X, y)\n",
        "model.predict_proba(X)\n",
        "model.predict(X)\n",
        "model.score(X,y)\n",
        "print(classification_report(y, model.predict(X)))\n",
        "model.score(X,y)"
      ],
      "metadata": {
        "id": "XWd_P9Nt4WwE",
        "colab": {
          "base_uri": "https://localhost:8080/"
        },
        "outputId": "8132c071-3d02-4235-b3a4-a7c17516b321"
      },
      "execution_count": 29,
      "outputs": [
        {
          "output_type": "stream",
          "name": "stdout",
          "text": [
            "              precision    recall  f1-score   support\n",
            "\n",
            "           0       0.00      0.00      0.00         5\n",
            "           1       0.00      0.00      0.00         2\n",
            "           2       0.00      0.00      0.00        48\n",
            "           3       0.00      0.00      0.00         5\n",
            "           4       0.00      0.00      0.00         4\n",
            "           5       0.00      0.00      0.00         3\n",
            "           6       0.00      0.00      0.00         1\n",
            "           7       0.22      0.73      0.34       113\n",
            "           8       0.00      0.00      0.00        13\n",
            "           9       0.00      0.00      0.00        24\n",
            "          10       0.00      0.00      0.00        50\n",
            "          11       0.00      0.00      0.00        16\n",
            "          12       0.00      0.00      0.00        11\n",
            "          13       0.00      0.00      0.00         1\n",
            "          14       0.19      0.06      0.09       270\n",
            "          15       0.00      0.00      0.00         8\n",
            "          16       0.00      0.00      0.00        12\n",
            "          17       0.00      0.00      0.00        52\n",
            "          18       0.00      0.00      0.00         1\n",
            "          19       0.00      0.00      0.00        10\n",
            "          20       0.00      0.00      0.00         3\n",
            "          21       0.19      0.78      0.31       532\n",
            "          22       0.00      0.00      0.00         1\n",
            "          23       0.00      0.00      0.00         8\n",
            "          24       0.00      0.00      0.00        21\n",
            "          25       0.00      0.00      0.00         1\n",
            "          26       0.00      0.00      0.00        46\n",
            "          27       0.00      0.00      0.00        15\n",
            "          28       0.00      0.00      0.00         4\n",
            "          29       0.00      0.00      0.00       357\n",
            "          30       0.00      0.00      0.00         8\n",
            "          31       0.00      0.00      0.00         5\n",
            "          32       0.00      0.00      0.00        15\n",
            "          33       0.00      0.00      0.00         5\n",
            "          34       0.00      0.00      0.00         6\n",
            "          35       0.00      0.00      0.00         1\n",
            "          36       0.00      0.00      0.00       106\n",
            "          37       0.00      0.00      0.00         7\n",
            "          38       0.00      0.00      0.00        13\n",
            "          39       0.00      0.00      0.00        37\n",
            "          40       0.00      0.00      0.00        14\n",
            "          41       0.00      0.00      0.00         9\n",
            "          42       0.00      0.00      0.00         1\n",
            "          43       0.00      0.00      0.00       173\n",
            "          44       0.00      0.00      0.00         5\n",
            "          45       0.00      0.00      0.00         5\n",
            "          46       0.00      0.00      0.00        30\n",
            "          47       0.00      0.00      0.00         5\n",
            "          48       0.00      0.00      0.00         4\n",
            "          49       0.00      0.00      0.00       208\n",
            "          50       0.00      0.00      0.00         1\n",
            "          51       0.00      0.00      0.00         3\n",
            "          52       0.00      0.00      0.00        13\n",
            "          53       0.00      0.00      0.00         1\n",
            "          54       0.00      0.00      0.00         1\n",
            "          55       0.00      0.00      0.00       165\n",
            "          56       0.00      0.00      0.00         1\n",
            "          57       0.00      0.00      0.00         9\n",
            "          58       0.00      0.00      0.00        23\n",
            "          59       0.00      0.00      0.00         3\n",
            "          60       0.00      0.00      0.00         1\n",
            "          61       0.11      0.68      0.18       218\n",
            "          62       0.00      0.00      0.00         3\n",
            "          63       0.00      0.00      0.00         5\n",
            "          64       0.00      0.00      0.00        20\n",
            "          65       0.00      0.00      0.00         6\n",
            "          66       0.00      0.00      0.00         2\n",
            "          67       0.00      0.00      0.00       144\n",
            "          68       0.00      0.00      0.00         6\n",
            "          69       0.00      0.00      0.00        18\n",
            "          70       0.00      0.00      0.00        60\n",
            "          71       0.00      0.00      0.00         7\n",
            "          72       0.00      0.00      0.00         7\n",
            "          73       0.00      0.00      0.00       245\n",
            "          74       0.00      0.00      0.00         1\n",
            "          75       0.00      0.00      0.00         4\n",
            "          76       0.00      0.00      0.00         8\n",
            "          77       0.00      0.00      0.00        50\n",
            "          78       0.00      0.00      0.00         9\n",
            "          79       0.00      0.00      0.00         5\n",
            "          80       0.09      0.08      0.08       416\n",
            "          81       0.50      0.17      0.25         6\n",
            "          82       0.00      0.00      0.00        12\n",
            "          83       0.00      0.00      0.00        27\n",
            "          84       0.00      0.00      0.00        11\n",
            "          85       0.00      0.00      0.00         4\n",
            "          86       0.00      0.00      0.00         1\n",
            "          87       0.00      0.00      0.00         1\n",
            "          88       0.05      0.01      0.02       262\n",
            "          89       0.00      0.00      0.00         3\n",
            "          90       0.00      0.00      0.00         8\n",
            "          91       0.00      0.00      0.00        38\n",
            "          92       0.00      0.00      0.00         9\n",
            "          93       0.00      0.00      0.00         4\n",
            "          94       0.21      0.18      0.19       328\n",
            "          95       0.00      0.00      0.00         6\n",
            "          96       0.00      0.00      0.00         7\n",
            "          97       0.00      0.00      0.00        38\n",
            "          98       0.00      0.00      0.00         6\n",
            "          99       0.00      0.00      0.00         2\n",
            "         100       0.00      0.00      0.00       101\n",
            "         101       0.00      0.00      0.00         6\n",
            "         102       0.00      0.00      0.00         7\n",
            "         103       0.00      0.00      0.00        13\n",
            "         104       0.00      0.00      0.00         7\n",
            "         105       0.00      0.00      0.00         9\n",
            "         106       0.00      0.00      0.00         1\n",
            "         107       0.04      0.02      0.02       169\n",
            "         108       0.00      0.00      0.00         9\n",
            "         109       0.00      0.00      0.00         6\n",
            "         110       0.00      0.00      0.00        12\n",
            "         111       0.00      0.00      0.00         2\n",
            "         112       0.00      0.00      0.00         3\n",
            "         113       0.00      0.00      0.00        63\n",
            "         114       0.00      0.00      0.00         7\n",
            "         115       0.00      0.00      0.00         6\n",
            "         116       0.00      0.00      0.00        19\n",
            "         117       0.00      0.00      0.00        13\n",
            "         118       0.00      0.00      0.00        17\n",
            "         119       0.16      0.60      0.25       222\n",
            "         120       0.00      0.00      0.00         6\n",
            "         121       0.00      0.00      0.00         9\n",
            "         122       0.00      0.00      0.00        24\n",
            "         123       0.00      0.00      0.00         1\n",
            "         124       0.00      0.00      0.00         9\n",
            "         125       0.00      0.00      0.00         3\n",
            "         126       0.00      0.00      0.00       168\n",
            "         127       0.00      0.00      0.00         7\n",
            "         128       0.00      0.00      0.00         8\n",
            "         129       0.00      0.00      0.00        22\n",
            "         130       0.00      0.00      0.00         2\n",
            "         131       0.00      0.00      0.00         8\n",
            "         132       0.00      0.00      0.00       105\n",
            "         133       0.00      0.00      0.00         7\n",
            "         134       0.00      0.00      0.00         7\n",
            "         135       0.00      0.00      0.00        24\n",
            "         136       0.00      0.00      0.00         8\n",
            "         137       0.00      0.00      0.00         6\n",
            "         138       0.06      0.15      0.09       211\n",
            "         139       0.00      0.00      0.00         3\n",
            "         140       0.00      0.00      0.00         2\n",
            "         141       0.00      0.00      0.00        16\n",
            "         142       0.00      0.00      0.00         5\n",
            "         143       0.00      0.00      0.00         4\n",
            "         144       0.00      0.00      0.00         1\n",
            "         145       0.00      0.00      0.00       147\n",
            "         146       0.00      0.00      0.00         1\n",
            "         147       0.00      0.00      0.00        11\n",
            "         148       0.00      0.00      0.00        17\n",
            "         149       0.00      0.00      0.00         1\n",
            "         150       0.00      0.00      0.00        25\n",
            "         151       0.00      0.00      0.00         5\n",
            "         152       0.00      0.00      0.00        11\n",
            "         153       0.00      0.00      0.00       112\n",
            "         154       0.00      0.00      0.00         8\n",
            "         155       0.00      0.00      0.00         5\n",
            "         156       0.00      0.00      0.00        15\n",
            "         157       0.00      0.00      0.00         3\n",
            "         158       0.00      0.00      0.00         7\n",
            "         159       0.17      0.36      0.23       143\n",
            "         160       0.00      0.00      0.00         7\n",
            "         161       0.00      0.00      0.00         4\n",
            "         162       0.00      0.00      0.00        14\n",
            "         163       0.00      0.00      0.00         7\n",
            "         164       0.00      0.00      0.00         4\n",
            "         165       0.00      0.00      0.00        60\n",
            "         166       0.00      0.00      0.00         5\n",
            "         167       0.00      0.00      0.00         6\n",
            "         168       0.00      0.00      0.00         1\n",
            "         169       0.00      0.00      0.00        15\n",
            "         170       0.00      0.00      0.00         6\n",
            "         171       0.00      0.00      0.00         7\n",
            "         172       0.16      0.67      0.26       155\n",
            "         173       0.00      0.00      0.00        15\n",
            "         174       0.00      0.00      0.00        14\n",
            "         175       0.00      0.00      0.00        29\n",
            "         176       0.00      0.00      0.00         1\n",
            "         177       0.00      0.00      0.00        10\n",
            "         178       0.00      0.00      0.00        15\n",
            "         179       0.00      0.00      0.00        78\n",
            "         180       0.00      0.00      0.00         3\n",
            "         181       0.00      0.00      0.00         2\n",
            "         182       0.00      0.00      0.00        14\n",
            "         183       0.00      0.00      0.00         3\n",
            "         184       0.00      0.00      0.00         5\n",
            "         185       0.00      0.00      0.00        73\n",
            "         186       0.00      0.00      0.00         9\n",
            "         187       0.00      0.00      0.00         3\n",
            "         188       0.00      0.00      0.00        12\n",
            "         189       0.00      0.00      0.00         8\n",
            "         190       0.00      0.00      0.00         9\n",
            "         191       0.00      0.00      0.00        81\n",
            "         192       0.00      0.00      0.00         1\n",
            "         193       0.00      0.00      0.00         1\n",
            "         194       0.00      0.00      0.00        11\n",
            "         195       0.00      0.00      0.00         6\n",
            "         196       0.00      0.00      0.00        15\n",
            "         197       0.00      0.00      0.00        17\n",
            "         198       0.00      0.00      0.00        16\n",
            "         199       0.00      0.00      0.00         2\n",
            "         200       0.27      0.60      0.37       219\n",
            "         201       0.00      0.00      0.00        10\n",
            "         202       0.00      0.00      0.00         8\n",
            "         203       0.00      0.00      0.00        12\n",
            "         204       0.00      0.00      0.00         5\n",
            "         205       0.00      0.00      0.00        21\n",
            "         206       0.13      0.24      0.17       136\n",
            "         207       0.00      0.00      0.00         7\n",
            "         208       0.00      0.00      0.00         4\n",
            "         209       0.00      0.00      0.00        15\n",
            "         210       0.00      0.00      0.00         2\n",
            "         211       0.00      0.00      0.00        13\n",
            "         212       0.00      0.00      0.00         1\n",
            "         213       0.00      0.00      0.00        84\n",
            "         214       0.00      0.00      0.00         6\n",
            "         215       0.00      0.00      0.00         4\n",
            "         216       0.00      0.00      0.00        11\n",
            "         217       0.00      0.00      0.00         5\n",
            "         218       0.00      0.00      0.00         6\n",
            "         219       0.00      0.00      0.00        65\n",
            "         220       0.00      0.00      0.00         5\n",
            "         221       0.00      0.00      0.00         4\n",
            "         222       0.00      0.00      0.00         6\n",
            "         223       0.00      0.00      0.00         1\n",
            "         224       0.00      0.00      0.00         5\n",
            "         225       0.00      0.00      0.00        57\n",
            "         226       0.00      0.00      0.00         6\n",
            "         227       0.00      0.00      0.00         2\n",
            "         228       0.00      0.00      0.00         9\n",
            "         229       0.00      0.00      0.00         1\n",
            "         230       0.00      0.00      0.00         4\n",
            "         231       0.00      0.00      0.00        53\n",
            "         232       0.00      0.00      0.00         3\n",
            "         233       0.00      0.00      0.00         1\n",
            "         234       0.00      0.00      0.00         5\n",
            "         235       0.00      0.00      0.00         5\n",
            "         236       0.00      0.00      0.00         4\n",
            "         237       0.00      0.00      0.00        29\n",
            "         238       0.00      0.00      0.00         5\n",
            "         239       0.00      0.00      0.00         1\n",
            "         240       0.00      0.00      0.00         2\n",
            "         241       0.00      0.00      0.00         4\n",
            "         242       0.00      0.00      0.00        17\n",
            "         243       0.00      0.00      0.00         2\n",
            "         244       0.00      0.00      0.00         2\n",
            "         245       0.00      0.00      0.00         1\n",
            "         246       0.00      0.00      0.00         2\n",
            "         247       0.00      0.00      0.00         1\n",
            "         248       0.00      0.00      0.00        31\n",
            "         249       0.00      0.00      0.00         4\n",
            "         250       0.00      0.00      0.00         2\n",
            "         251       0.00      0.00      0.00         5\n",
            "         252       0.00      0.00      0.00         1\n",
            "         253       0.00      0.00      0.00         5\n",
            "         254       0.00      0.00      0.00        18\n",
            "         255       0.00      0.00      0.00         1\n",
            "         256       0.00      0.00      0.00         3\n",
            "         257       0.00      0.00      0.00         3\n",
            "         258       0.00      0.00      0.00         1\n",
            "         259       0.00      0.00      0.00         3\n",
            "         260       0.00      0.00      0.00         4\n",
            "         261       0.00      0.00      0.00        12\n",
            "         262       0.15      0.82      0.26        40\n",
            "         263       0.75      1.00      0.86         3\n",
            "         264       1.00      1.00      1.00         1\n",
            "\n",
            "    accuracy                           0.16      8143\n",
            "   macro avg       0.02      0.03      0.02      8143\n",
            "weighted avg       0.06      0.16      0.08      8143\n",
            "\n"
          ]
        },
        {
          "output_type": "stream",
          "name": "stderr",
          "text": [
            "/usr/local/lib/python3.9/dist-packages/sklearn/metrics/_classification.py:1344: UndefinedMetricWarning: Precision and F-score are ill-defined and being set to 0.0 in labels with no predicted samples. Use `zero_division` parameter to control this behavior.\n",
            "  _warn_prf(average, modifier, msg_start, len(result))\n",
            "/usr/local/lib/python3.9/dist-packages/sklearn/metrics/_classification.py:1344: UndefinedMetricWarning: Precision and F-score are ill-defined and being set to 0.0 in labels with no predicted samples. Use `zero_division` parameter to control this behavior.\n",
            "  _warn_prf(average, modifier, msg_start, len(result))\n",
            "/usr/local/lib/python3.9/dist-packages/sklearn/metrics/_classification.py:1344: UndefinedMetricWarning: Precision and F-score are ill-defined and being set to 0.0 in labels with no predicted samples. Use `zero_division` parameter to control this behavior.\n",
            "  _warn_prf(average, modifier, msg_start, len(result))\n"
          ]
        },
        {
          "output_type": "execute_result",
          "data": {
            "text/plain": [
              "0.15780424904826232"
            ]
          },
          "metadata": {},
          "execution_count": 29
        }
      ]
    },
    {
      "cell_type": "code",
      "source": [
        "from sklearn.ensemble import RandomForestClassifier #algorithm of hyperparameter tuning\n",
        "from sklearn.model_selection import GridSearchCV #Cv: Cross Validation\n",
        "from sklearn.metrics import accuracy_score\n",
        "from sklearn.model_selection import train_test_split\n",
        "X_train, X_val, y_train, y_val = train_test_split(X, y, test_size=0.3, random_state=42)\n",
        "\n",
        "# Define the hyperparameters to tune\n",
        "param_grid = {\n",
        "    'n_estimators': [50, 100, 150],\n",
        "    'max_depth': [None, 5, 10],\n",
        "    'min_samples_split': [2, 5, 10]\n",
        "}\n",
        "# Create a random forest classifier object\n",
        "rfc = RandomForestClassifier()\n",
        "\n",
        "# Perform a grid search with cross-validation to find the best hyperparameters\n",
        "grid_search = GridSearchCV(estimator=rfc, param_grid=param_grid, cv=5)\n",
        "grid_search.fit(X_train, y_train)\n",
        "\n",
        "# Print the best hyperparameters and their corresponding accuracy score on the validation set\n",
        "print(\"Best hyperparameters:\", grid_search.best_params_)\n",
        "y_pred = grid_search.predict(X_val)\n",
        "print(\"Validation accuracy score:\", accuracy_score(y_val, y_pred))"
      ],
      "metadata": {
        "id": "X3vSXkuSSJkV",
        "colab": {
          "base_uri": "https://localhost:8080/"
        },
        "outputId": "46835369-3d49-4543-9ee8-b090d9b97eeb"
      },
      "execution_count": 32,
      "outputs": [
        {
          "output_type": "stream",
          "name": "stderr",
          "text": [
            "/usr/local/lib/python3.9/dist-packages/sklearn/model_selection/_split.py:700: UserWarning: The least populated class in y has only 1 members, which is less than n_splits=5.\n",
            "  warnings.warn(\n"
          ]
        },
        {
          "output_type": "stream",
          "name": "stdout",
          "text": [
            "Best hyperparameters: {'max_depth': None, 'min_samples_split': 2, 'n_estimators': 150}\n",
            "Validation accuracy score: 0.8661481784690954\n"
          ]
        }
      ]
    }
  ],
  "metadata": {
    "colab": {
      "provenance": []
    },
    "kernelspec": {
      "display_name": "Python 3",
      "name": "python3"
    },
    "language_info": {
      "name": "python"
    }
  },
  "nbformat": 4,
  "nbformat_minor": 0
}